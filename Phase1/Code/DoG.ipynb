{
 "cells": [
  {
   "cell_type": "code",
   "execution_count": null,
   "id": "6e4317a4",
   "metadata": {},
   "outputs": [],
   "source": [
    "# Notebook for creating DoG filters\n",
    "\n",
    "# Approach\n",
    "\n",
    "# Define sobel\n",
    "# Define gaussian of suitable size\n",
    "# Convolve sobel in x direction with Gaussian\n",
    "# Rotate for 16 orientations between 0 and 360 degrees\n",
    "# Repeat process for a different sigma\n",
    "# Return filters\n",
    "# Visualize"
   ]
  },
  {
   "cell_type": "code",
   "execution_count": 9,
   "id": "ecb155f5",
   "metadata": {},
   "outputs": [],
   "source": [
    "import numpy as np\n",
    "from typing import List\n",
    "from numpy import sqrt, pi, reshape, sin, cos\n",
    "import matplotlib.pyplot as plt\n",
    "import cv2"
   ]
  },
  {
   "cell_type": "code",
   "execution_count": 10,
   "id": "4c4435eb",
   "metadata": {},
   "outputs": [],
   "source": [
    "sobel_x = np.array([[+1, 0, -1], [+2, 0, -2], [+1, 0, -1]])\n",
    "# sobel_y = sobel_x.T "
   ]
  },
  {
   "cell_type": "code",
   "execution_count": 23,
   "id": "cba01b22",
   "metadata": {},
   "outputs": [],
   "source": [
    "def get_2d_gaussian(grid: [List[List[float]]], sigma, elong_factor: float = 1) -> [List[List[float]]]:\n",
    "    \"\"\"\n",
    "    Calculates 2d gaussian using function defn. at each point (x, y) in grid\n",
    "    \"\"\"\n",
    "    x, y = grid[0], grid[1]\n",
    "\n",
    "    sigma_y = sigma\n",
    "    sigma_x = elong_factor * sigma_y\n",
    "\n",
    "    num = np.exp(-0.5 * ((x**2 / sigma_x**2) + (y ** 2 / sigma_y**2)))\n",
    "    denom = np.sqrt(2 * pi * sigma_x * sigma_y)\n",
    "\n",
    "    return num / denom"
   ]
  },
  {
   "cell_type": "code",
   "execution_count": 24,
   "id": "0b6f258d",
   "metadata": {},
   "outputs": [],
   "source": [
    "# Viz. gaussian\n",
    "\n",
    "sigma = sqrt(2)\n",
    "\n",
    "size = 7\n",
    "bound = (size - 1) / 2\n",
    "spread = np.linspace(-bound, bound, size)\n",
    "x, y = np.meshgrid(spread, spread)\n",
    "pts = [x.flatten(), y.flatten()]\n",
    "\n",
    "gaussian = get_2d_gaussian(pts, sigma)\n",
    "gaussian = reshape(gaussian, (7, 7))\n"
   ]
  },
  {
   "cell_type": "code",
   "execution_count": 25,
   "id": "621a1848",
   "metadata": {},
   "outputs": [
    {
     "data": {
      "text/plain": [
       "<matplotlib.image.AxesImage at 0x7f8238fc2460>"
      ]
     },
     "execution_count": 25,
     "metadata": {},
     "output_type": "execute_result"
    },
    {
     "data": {
      "image/png": "[encoded data removed]",
      "text/plain": [
       "<Figure size 432x288 with 1 Axes>"
      ]
     },
     "metadata": {
      "needs_background": "light"
     },
     "output_type": "display_data"
    }
   ],
   "source": [
    "plt.subplot(1,1,1)\n",
    "plt.axis('off')\n",
    "plt.imshow(gaussian, cmap = 'gray')"
   ]
  },
  {
   "cell_type": "code",
   "execution_count": 26,
   "id": "aef4f525",
   "metadata": {},
   "outputs": [],
   "source": [
    "Gx = cv2.filter2D(src=gaussian, ddepth = -1, kernel=sobel_x)"
   ]
  },
  {
   "cell_type": "code",
   "execution_count": 27,
   "id": "8705924b",
   "metadata": {},
   "outputs": [
    {
     "data": {
      "text/plain": [
       "<matplotlib.image.AxesImage at 0x7f8239bd3a90>"
      ]
     },
     "execution_count": 27,
     "metadata": {},
     "output_type": "execute_result"
    },
    {
     "data": {
      "image/png": "[encoded data removed]",
      "text/plain": [
       "<Figure size 432x288 with 1 Axes>"
      ]
     },
     "metadata": {
      "needs_background": "light"
     },
     "output_type": "display_data"
    }
   ],
   "source": [
    "plt.subplot(1,1,1)\n",
    "plt.axis('off')\n",
    "plt.imshow(Gx, cmap = 'gray')"
   ]
  },
  {
   "cell_type": "code",
   "execution_count": 28,
   "id": "bbf3e844",
   "metadata": {},
   "outputs": [
    {
     "data": {
      "text/plain": [
       "<matplotlib.image.AxesImage at 0x7f8276df18e0>"
      ]
     },
     "execution_count": 28,
     "metadata": {},
     "output_type": "execute_result"
    },
    {
     "data": {
      "image/png": "[encoded data removed]",
      "text/plain": [
       "<Figure size 432x288 with 1 Axes>"
      ]
     },
     "metadata": {
      "needs_background": "light"
     },
     "output_type": "display_data"
    }
   ],
   "source": [
    "# Get oriented derivative\n",
    "\n",
    "sigma = 0.8\n",
    "angle = 11 * pi / orientations\n",
    "\n",
    "rotation_mat = np.array([[cos(angle), -sin(angle)], [sin(angle), cos(angle)]])\n",
    "rotated_pts = rotation_mat.dot(pts)\n",
    "gaussian = get_2d_gaussian(rotated_pts, sigma)\n",
    "gaussian = reshape(gaussian, (7, 7))\n",
    "\n",
    "plt.subplot(1,1,1)\n",
    "plt.axis('off')\n",
    "plt.imshow(gaussian, cmap = 'gray')\n"
   ]
  },
  {
   "cell_type": "code",
   "execution_count": 29,
   "id": "56dc2073",
   "metadata": {},
   "outputs": [
    {
     "data": {
      "text/plain": [
       "<matplotlib.image.AxesImage at 0x7f823990aa30>"
      ]
     },
     "execution_count": 29,
     "metadata": {},
     "output_type": "execute_result"
    },
    {
     "data": {
      "image/png": "[encoded data removed]",
      "text/plain": [
       "<Figure size 432x288 with 1 Axes>"
      ]
     },
     "metadata": {
      "needs_background": "light"
     },
     "output_type": "display_data"
    }
   ],
   "source": [
    "Gx = cv2.filter2D(src=gaussian, ddepth = -1, kernel=sobel_x)\n",
    "\n",
    "plt.subplot(1,1,1)\n",
    "plt.axis('off')\n",
    "plt.imshow(Gx, cmap = 'gray')"
   ]
  },
  {
   "cell_type": "code",
   "execution_count": 35,
   "id": "41e00651",
   "metadata": {},
   "outputs": [],
   "source": [
    "# DoG filter bank\n",
    "\n",
    "# sigma_scales = [sqrt(2), 2]\n",
    "sigma_scales = [1, 1.4]\n",
    "\n",
    "angles = 16\n",
    "\n",
    "size = 7\n",
    "filter_shape = (size, size)\n",
    "bound = (size - 1) / 2\n",
    "spread = np.linspace(-bound, bound, size)\n",
    "x, y = np.meshgrid(spread, spread)\n",
    "pts = [x.flatten(), y.flatten()]\n",
    "\n",
    "center = (int(size/2), int(size/2))\n",
    "\n",
    "DoGs = []\n",
    "for sigma in sigma_scales:\n",
    "    g = get_2d_gaussian(pts, sigma)\n",
    "    g_2d = reshape(g, filter_shape)\n",
    "    g_convolved = cv2.filter2D(src=g_2d, ddepth = -1, kernel=sobel_x)\n",
    "    \n",
    "    for i in range(angles):\n",
    "        angle = i * 360 / angles\n",
    "        rotation_mat = cv2.getRotationMatrix2D(center=center, angle=angle, scale=1)\n",
    "        dog_filter = cv2.warpAffine(src=g_convolved, M=rotation_mat, dsize=filter_shape)\n",
    "        DoGs.append(dog_filter)"
   ]
  },
  {
   "cell_type": "code",
   "execution_count": 36,
   "id": "ccde4bb7",
   "metadata": {},
   "outputs": [
    {
     "data": {
      "image/png": "[encoded data removed]",
      "text/plain": [
       "<Figure size 432x288 with 32 Axes>"
      ]
     },
     "metadata": {
      "needs_background": "light"
     },
     "output_type": "display_data"
    }
   ],
   "source": [
    "for i in range(len(DoGs)):\n",
    "    plt.subplot(2,16,i+1)\n",
    "    plt.axis('off')\n",
    "    plt.imshow(DoGs[i], cmap = 'gray')"
   ]
  },
  {
   "cell_type": "code",
   "execution_count": null,
   "id": "11cffc15",
   "metadata": {},
   "outputs": [],
   "source": []
  },
  {
   "cell_type": "code",
   "execution_count": 41,
   "id": "485596ab",
   "metadata": {},
   "outputs": [
    {
     "name": "stdout",
     "output_type": "stream",
     "text": [
      "0.0\n",
      "array([[ 0.,  0.,  0., ...,  0.,  0.,  0.],\n",
      "       [ 0.,  0.,  0., ...,  0.,  0.,  0.],\n",
      "       [ 0.,  0.,  0., ...,  0.,  0.,  0.],\n",
      "       ...,\n",
      "       [-0., -0., -0., ..., -0., -0., -0.],\n",
      "       [-0., -0., -0., ..., -0., -0., -0.],\n",
      "       [-0., -0., -0., ..., -0., -0., -0.]])\n",
      "0.0\n",
      "array([[ 0.,  0.,  0., ...,  0.,  0.,  0.],\n",
      "       [ 0.,  0.,  0., ...,  0.,  0.,  0.],\n",
      "       [ 0.,  0.,  0., ...,  0.,  0.,  0.],\n",
      "       ...,\n",
      "       [-0., -0., -0., ..., -0., -0., -0.],\n",
      "       [-0., -0., -0., ..., -0., -0., -0.],\n",
      "       [-0., -0., -0., ..., -0., -0., -0.]])\n",
      "0.0\n",
      "array([[ 0.,  0.,  0., ...,  0.,  0.,  0.],\n",
      "       [ 0.,  0.,  0., ...,  0.,  0.,  0.],\n",
      "       [ 0.,  0.,  0., ...,  0.,  0.,  0.],\n",
      "       ...,\n",
      "       [-0., -0., -0., ..., -0., -0., -0.],\n",
      "       [-0., -0., -0., ..., -0., -0., -0.],\n",
      "       [-0., -0., -0., ..., -0., -0., -0.]])\n",
      "(49, 49, 48)\n"
     ]
    }
   ],
   "source": [
    "import numpy as np\n",
    "import cv2\n",
    "import matplotlib.pyplot as plt\n",
    "\n",
    "kernel_size = 49\n",
    "\n",
    "def get_1d_gaussian(x: List[float], sigma: float) -> List[float]:\n",
    "    \"\"\"\n",
    "    Calculates 1d gaussian using function definition at each point in x\n",
    "    \"\"\"\n",
    "#     x = x - np.mean(x)\n",
    "    \n",
    "    x = np.array(x)\n",
    "    \n",
    "    var = sigma**2\n",
    "    \n",
    "    num = np.exp(-(x**2) / 2 * var)\n",
    "    denom = np.sqrt(2 * pi * var)\n",
    "\n",
    "    return num / denom\n",
    "\n",
    "def get_deriv_of_1d_gaussian(order: int, x: List[float], sigma: float) -> List[float]:\n",
    "    \"\"\"\n",
    "    Gets the 1st or 2nd order derivative of gaussian.\n",
    "    \"\"\"\n",
    "    var = sigma**2\n",
    "    g = get_1d_gaussian(x, sigma)\n",
    "\n",
    "    if order == 1:\n",
    "        return -g * (x / var) \n",
    "    else:  # order = 2\n",
    "        return  g * (((x**2) - var) / (var**2))\n",
    "\n",
    "def get_filter(order: int, pts: List[List[float]], sigma: float):\n",
    "    \"\"\"\n",
    "    Gets the 1st or 2nd order derivative of gaussian.\n",
    "    \"\"\"\n",
    "    gx = get_1d_gaussian(pts[0], 3*sigma)\n",
    "    gy = get_deriv_of_1d_gaussian(order, pts[1], sigma)\n",
    "\n",
    "    return np.reshape(gx * gy, (kernel_size, kernel_size))\n",
    "\n",
    "# def makefilter(scale, phasex, phasey, pts, sup):\n",
    "\n",
    "    \n",
    "    \n",
    "#     gx = gaussian1d(3*scale, 0, pts[0,...], phasex)\n",
    "#     gy = gaussian1d(scale,   0, pts[1,...], phasey)\n",
    "\n",
    "#     image = gx*gy\n",
    "\n",
    "#     image = np.reshape(image,(sup,sup))\n",
    "#     return image\n",
    "\n",
    "def makeLMfilters():\n",
    "    sup     = 49\n",
    "    scalex  = np.sqrt(2) * np.array([1,2,3])\n",
    "    norient = 6\n",
    "    nrotinv = 12\n",
    "\n",
    "    nbar  = len(scalex)*norient\n",
    "    nedge = len(scalex)*norient\n",
    "    nf    = nbar+nedge+nrotinv\n",
    "    F     = np.zeros([sup,sup,nf])\n",
    "    hsup  = (sup - 1)/2\n",
    "\n",
    "    x = [np.arange(-hsup,hsup+1)]\n",
    "    y = [np.arange(-hsup,hsup+1)]\n",
    "\n",
    "    [x,y] = np.meshgrid(x,y)\n",
    "\n",
    "    orgpts = [x.flatten(), y.flatten()]\n",
    "    orgpts = np.array(orgpts)\n",
    "\n",
    "    count = 0\n",
    "    for scale in range(len(scalex)):\n",
    "        for orient in range(norient):\n",
    "            angle = (np.pi * orient)/norient\n",
    "            print(angle)\n",
    "            c = np.cos(angle)\n",
    "            s = np.sin(angle)\n",
    "            rotpts = [[c+0,-s+0],[s+0,c+0]]\n",
    "            rotpts = np.array(rotpts)\n",
    "            rotpts = np.dot(rotpts,orgpts)\n",
    "            \n",
    "#             F[:,:,count] = makefilter(scalex[scale], 0, 1, rotpts, sup)\n",
    "#             F[:,:,count+nedge] = makefilter(scalex[scale], 0, 2, rotpts, sup)\n",
    "            F[:,:,count] = get_filter(1, rotpts, scalex[scale])\n",
    "    \n",
    "            import pprint\n",
    "            pprint.pprint(F[:,:,count])\n",
    "            \n",
    "            break    \n",
    "    \n",
    "            F[:,:,count+nedge] = get_filter(2, rotpts, scalex[scale])\n",
    "            count = count + 1\n",
    "\n",
    "    count = nbar+nedge\n",
    "    scales = np.sqrt(2) * np.array([1,2,3,4])\n",
    "\n",
    "#     for i in range(len(scales)):\n",
    "#         F[:,:,count]   = gaussian2d(sup, scales[i])\n",
    "#         count = count + 1\n",
    "\n",
    "#     for i in range(len(scales)):\n",
    "#         F[:,:,count] = log2d(sup, scales[i])\n",
    "#         count = count + 1\n",
    "\n",
    "#     for i in range(len(scales)):\n",
    "#         F[:,:,count] = log2d(sup, 3*scales[i])\n",
    "#         count = count + 1\n",
    "\n",
    "    return F\n",
    "\n",
    "# Call the make filter function\n",
    "F = makeLMfilters()\n",
    "print(F.shape)"
   ]
  },
  {
   "cell_type": "code",
   "execution_count": null,
   "id": "30699730",
   "metadata": {},
   "outputs": [],
   "source": []
  },
  {
   "cell_type": "code",
   "execution_count": null,
   "id": "da4f6e10",
   "metadata": {},
   "outputs": [],
   "source": [
    "plt.axis('off')\n",
    "plt.imshow(F[:,:,0], cmap = 'gray')"
   ]
  },
  {
   "cell_type": "code",
   "execution_count": null,
   "id": "ca1902e8",
   "metadata": {},
   "outputs": [],
   "source": []
  }
 ],
 "metadata": {
  "kernelspec": {
   "display_name": "Python 3",
   "language": "python",
   "name": "python3"
  },
  "language_info": {
   "codemirror_mode": {
    "name": "ipython",
    "version": 3
   },
   "file_extension": ".py",
   "mimetype": "text/x-python",
   "name": "python",
   "nbconvert_exporter": "python",
   "pygments_lexer": "ipython3",
   "version": "3.9.14"
  }
 },
 "nbformat": 4,
 "nbformat_minor": 5
}
