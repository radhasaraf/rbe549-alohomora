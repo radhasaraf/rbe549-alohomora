{
 "cells": [
  {
   "cell_type": "code",
   "execution_count": 6,
   "metadata": {},
   "outputs": [],
   "source": [
    "# Texton map\n",
    "\n",
    "import numpy as np\n",
    "from typing import List, Tuple\n",
    "from numpy import sqrt, pi, reshape, sin, cos\n",
    "import matplotlib.pyplot as plt\n",
    "import cv2\n",
    "\n",
    "\n",
    "def get_2d_gaussian(\n",
    "\t\tgrid: [List[List[float]]], sigma, elong_factor: float = 1\n",
    ") -> [List[List[float]]]:\n",
    "\t\"\"\"\n",
    "\tCalculates 2d gaussian using function defn. at each point (x, y) in grid\n",
    "\t\"\"\"\n",
    "\tx, y = grid[0], grid[1]\n",
    "\n",
    "\tsigma_y = sigma\n",
    "\tsigma_x = elong_factor * sigma_y\n",
    "\n",
    "\tnum = np.exp(-0.5 * (x ** 2 / sigma_x ** 2 + y ** 2 / sigma_y ** 2))\n",
    "\tdenom = np.sqrt(2 * pi * sigma_x * sigma_y)\n",
    "\n",
    "\treturn num / denom\n",
    "\n",
    "def get_dog_filter_bank(\n",
    "\t\tsize: int = 7, sigma_scales: Tuple = (1, np.sqrt(2)), angles: int = 16\n",
    ") ->  List[List[List[float]]]:\n",
    "\t\"\"\"\n",
    "\n",
    "\t\"\"\"\n",
    "\tsobel_x = np.array([[+1, 0, -1], [+2, 0, -2], [+1, 0, -1]])\n",
    "\n",
    "\tbound = (size - 1) / 2\n",
    "\tspread = np.linspace(-bound, bound, size)\n",
    "\tx, y = np.meshgrid(spread, spread)\n",
    "\tpts = [x.flatten(), y.flatten()]\n",
    "\n",
    "\tcenter = (int(size / 2), int(size / 2))\n",
    "\tfilter_shape = (size, size)\n",
    "\n",
    "\tDoGs = []\n",
    "\tfor sigma in sigma_scales:\n",
    "\t\tg = get_2d_gaussian(pts, sigma)\n",
    "\t\tg_2d = reshape(g, filter_shape)\n",
    "\t\tg_convolved = cv2.filter2D(src=g_2d, ddepth=-1, kernel=sobel_x)\n",
    "\n",
    "\t\tfor i in range(angles):\n",
    "\t\t\tangle = i * 360 / angles\n",
    "\t\t\tr_mat = cv2.getRotationMatrix2D(center=center, angle=angle, scale=1)\n",
    "\t\t\tdog_filter = cv2.warpAffine(src=g_convolved, M=r_mat, dsize=filter_shape)\n",
    "\t\t\tDoGs.append(dog_filter)\n",
    "\n",
    "\t# Visualization\n",
    "\t# for i in range(len(DoGs)):\n",
    "\t# \tplt.subplot(2, 16, i + 1)\n",
    "\t# \tplt.axis('off')\n",
    "\t# \tplt.imshow(DoGs[i], cmap='gray')\n",
    "\n",
    "\treturn DoGs\n",
    "\n",
    "def get_gabor_filter_bank() -> [List[List[float]]]:\n",
    "\tdef _gabor(sigma, theta, Lambda, psi, gamma):\n",
    "\t\t\"\"\"Gabor feature extraction.\"\"\"\n",
    "\t\tsigma_x = sigma\n",
    "\t\tsigma_y = float(sigma) / gamma\n",
    "\n",
    "\t\tnstds = 3  # Number of standard deviation sigma\n",
    "\t\txmax = max(abs(nstds * sigma_x * np.cos(theta)),\n",
    "\t\t\t\t   abs(nstds * sigma_y * np.sin(theta)))\n",
    "\t\txmax = np.ceil(max(1, xmax))\n",
    "\n",
    "\t\tymax = max(abs(nstds * sigma_x * np.sin(theta)),\n",
    "\t\t\t\t   abs(nstds * sigma_y * np.cos(theta)))\n",
    "\t\tymax = np.ceil(max(1, ymax))\n",
    "\n",
    "\t\txmin = -xmax\n",
    "\t\tymin = -ymax\n",
    "\n",
    "\t\t(x, y) = np.meshgrid(np.arange(xmin, xmax + 1),\n",
    "\t\t\t\t\t\t\t np.arange(ymin, ymax + 1))\n",
    "\n",
    "\t\t# Rotation\n",
    "\t\tx_theta = x * np.cos(theta) + y * np.sin(theta)\n",
    "\t\ty_theta = -x * np.sin(theta) + y * np.cos(theta)\n",
    "\n",
    "\t\tgb = np.exp(-.5 * (\n",
    "\t\t\t\t\tx_theta ** 2 / sigma_x ** 2 + y_theta ** 2 / sigma_y ** 2)) * np.cos(\n",
    "\t\t\t2 * np.pi / Lambda * x_theta + psi)\n",
    "\t\treturn gb\n",
    "\n",
    "\tgamma = 1\n",
    "\tsigma_scales = [18, 24, 30, 36, 42]\n",
    "\tangles = 8\n",
    "\n",
    "\tLambda = 30\n",
    "\tpsi = 30\n",
    "\n",
    "\tgabor_bank = []\n",
    "\tfor sigma in sigma_scales:\n",
    "\t\tfor i in range(angles):\n",
    "\t\t\ttheta = i * np.pi / angles\n",
    "\t\t\tgb = _gabor(sigma, theta, Lambda, psi, gamma)\n",
    "\t\t\tgabor_bank.append(gb)\n",
    "\n",
    "\treturn gabor_bank\n",
    "\n",
    "\n",
    "def gaussian1d(sigma, mean, x, ord):\n",
    "    x = np.array(x)\n",
    "    x_ = x - mean\n",
    "    var = sigma**2\n",
    "\n",
    "    # Gaussian Function\n",
    "    g1 = (1/np.sqrt(2*np.pi*var))*(np.exp((-1*x_*x_)/(2*var)))\n",
    "\n",
    "    if ord == 0:\n",
    "        g = g1\n",
    "        return g\n",
    "    elif ord == 1:\n",
    "        g = -g1*((x_)/(var))\n",
    "        return g\n",
    "    else:\n",
    "        g = g1*(((x_*x_) - var)/(var**2))\n",
    "        return g\n",
    "\n",
    "def gaussian2d(sup, scales):\n",
    "    var = scales * scales\n",
    "    shape = (sup,sup)\n",
    "    n,m = [(i - 1)/2 for i in shape]\n",
    "    x,y = np.ogrid[-m:m+1,-n:n+1]\n",
    "    g = (1/np.sqrt(2*np.pi*var))*np.exp( -(x*x + y*y) / (2*var) )\n",
    "    return g\n",
    "\n",
    "def log2d(sup, scales):\n",
    "    var = scales * scales\n",
    "    shape = (sup,sup)\n",
    "    n,m = [(i - 1)/2 for i in shape]\n",
    "    x,y = np.ogrid[-m:m+1,-n:n+1]\n",
    "    g = (1/np.sqrt(2*np.pi*var))*np.exp( -(x*x + y*y) / (2*var) )\n",
    "    h = g*((x*x + y*y) - var)/(var**2)\n",
    "    return h\n",
    "\n",
    "def makefilter(scale, phasex, phasey, pts, sup):\n",
    "\n",
    "    gx = gaussian1d(3*scale, 0, pts[0,...], phasex)\n",
    "    gy = gaussian1d(scale,   0, pts[1,...], phasey)\n",
    "\n",
    "    image = gx*gy\n",
    "\n",
    "    image = np.reshape(image,(sup,sup))\n",
    "    return image\n",
    "\n",
    "def get_lm_filter_bank():\n",
    "    sup     = 49\n",
    "    scalex  = np.sqrt(2) * np.array([1,2,3])\n",
    "    norient = 6\n",
    "    nrotinv = 12\n",
    "\n",
    "    nbar  = len(scalex)*norient\n",
    "    nedge = len(scalex)*norient\n",
    "    nf    = nbar+nedge+nrotinv\n",
    "    F     = np.zeros([sup,sup,nf])\n",
    "    hsup  = (sup - 1)/2\n",
    "\n",
    "    x = [np.arange(-hsup,hsup+1)]\n",
    "    y = [np.arange(-hsup,hsup+1)]\n",
    "\n",
    "    [x,y] = np.meshgrid(x,y)\n",
    "\n",
    "    orgpts = [x.flatten(), y.flatten()]\n",
    "    orgpts = np.array(orgpts)\n",
    "\n",
    "    count = 0\n",
    "    for scale in range(len(scalex)):\n",
    "        for orient in range(norient):\n",
    "            angle = (np.pi * orient)/norient\n",
    "            c = np.cos(angle)\n",
    "            s = np.sin(angle)\n",
    "            rotpts = [[c+0,-s+0],[s+0,c+0]]\n",
    "            rotpts = np.array(rotpts)\n",
    "            rotpts = np.dot(rotpts,orgpts)\n",
    "            F[:,:,count] = makefilter(scalex[scale], 0, 1, rotpts, sup)\n",
    "            F[:,:,count+nedge] = makefilter(scalex[scale], 0, 2, rotpts, sup)\n",
    "            count = count + 1\n",
    "\n",
    "    count = nbar+nedge\n",
    "    scales = np.sqrt(2) * np.array([1,2,3,4])\n",
    "\n",
    "    for i in range(len(scales)):\n",
    "        F[:,:,count]   = gaussian2d(sup, scales[i])\n",
    "        count = count + 1\n",
    "\n",
    "    for i in range(len(scales)):\n",
    "        F[:,:,count] = log2d(sup, scales[i])\n",
    "        count = count + 1\n",
    "\n",
    "    for i in range(len(scales)):\n",
    "        F[:,:,count] = log2d(sup, 3*scales[i])\n",
    "        count = count + 1\n",
    "\n",
    "    LM_bank = []\n",
    "    for i in range(48):\n",
    "        LM_bank.append(L[:,:,i])\n",
    "\n",
    "    return LM_bank"
   ]
  },
  {
   "cell_type": "code",
   "execution_count": 7,
   "metadata": {},
   "outputs": [],
   "source": [
    "D = get_dog_filter_bank()\n",
    "L = get_lm_filter_bank()\n",
    "G = get_gabor_filter_bank()"
   ]
  },
  {
   "cell_type": "code",
   "execution_count": 8,
   "metadata": {},
   "outputs": [
    {
     "data": {
      "text/plain": [
       "48"
      ]
     },
     "execution_count": 8,
     "metadata": {},
     "output_type": "execute_result"
    }
   ],
   "source": [
    "len(L)"
   ]
  },
  {
   "cell_type": "code",
   "execution_count": 10,
   "metadata": {},
   "outputs": [
    {
     "data": {
      "image/png": "[encoded data removed]",
      "text/plain": [
       "<Figure size 432x288 with 48 Axes>"
      ]
     },
     "metadata": {
      "needs_background": "light"
     },
     "output_type": "display_data"
    }
   ],
   "source": [
    "for i in range(len(L)):\n",
    "    plt.subplot(8, 6, i + 1)\n",
    "    plt.axis('off')\n",
    "    plt.imshow(L[i], cmap='gray')\n",
    "    \n",
    "# for i in range(48):\n",
    "#     plt.subplot(8,6,i+1)\n",
    "#     plt.axis('off')\n",
    "#     plt.imshow(L[:,:,i], cmap = 'gray')"
   ]
  },
  {
   "cell_type": "code",
   "execution_count": 18,
   "metadata": {},
   "outputs": [],
   "source": [
    "# from sklearn.cluster import KMeans\n",
    "import cv2\n",
    "\n",
    "img = cv2.imread(\"/home/radha/Downloads/test_samples/test1.jpg\")\n",
    "img_gray = cv2.cvtColor(img, cv2.COLOR_BGR2GRAY)\n",
    "\n",
    "img_channels = []\n",
    "for bank in [D, L, G]:\n",
    "    for filt in bank:\n",
    "        img_convolved = cv2.filter2D(src=img_gray, ddepth=-1, kernel=filt)\n",
    "        img_channels.append(img_convolved)\n",
    "    \n",
    "img_channels = np.array(img_channels)\n",
    "img_shape = np.array(img_channels).shape\n",
    "pixels = np.dot(img_shape[1], img_shape[2])\n",
    "\n",
    "img = img_channels.swapaxes(0, 2)\n",
    "img = img.reshape(pixels, img_shape[0])"
   ]
  },
  {
   "cell_type": "code",
   "execution_count": 19,
   "metadata": {},
   "outputs": [
    {
     "data": {
      "text/plain": [
       "array([[  0,   1,   0, ...,   0, 255, 102],\n",
       "       [  0,   0,   0, ..., 207,  14,  42],\n",
       "       [  0,   0,   0, ..., 255,   0,   0],\n",
       "       ...,\n",
       "       [  0,  96, 135, ..., 255,   0,   0],\n",
       "       [  0,  81, 114, ..., 255,   0,   0],\n",
       "       [  0,   1,   0, ..., 255,   0,   0]], dtype=uint8)"
      ]
     },
     "execution_count": 19,
     "metadata": {},
     "output_type": "execute_result"
    }
   ],
   "source": [
    "img"
   ]
  },
  {
   "cell_type": "code",
   "execution_count": null,
   "metadata": {},
   "outputs": [],
   "source": []
  },
  {
   "cell_type": "code",
   "execution_count": 32,
   "metadata": {},
   "outputs": [
    {
     "data": {
      "text/plain": [
       "<matplotlib.image.AxesImage at 0x7fc7f624ad60>"
      ]
     },
     "execution_count": 32,
     "metadata": {},
     "output_type": "execute_result"
    },
    {
     "data": {
      "image/png": "[encoded data removed]",
      "text/plain": [
       "<Figure size 432x288 with 1 Axes>"
      ]
     },
     "metadata": {
      "needs_background": "light"
     },
     "output_type": "display_data"
    }
   ],
   "source": [
    "import matplotlib.pyplot as plt\n",
    "plt.imshow(image_channels[100])"
   ]
  },
  {
   "cell_type": "code",
   "execution_count": 5,
   "metadata": {},
   "outputs": [],
   "source": [
    "import numpy as np\n",
    "a = np.array([[[1, 2, 3], [4, 5, 6], [7, 8, 9]], [[1, 2, 3], [4, 5, 6], [7, 8, 9]], [[1, 2, 3], [4, 5, 6], [7, 8, 9]], [[1, 2, 3], [4, 5, 6], [7, 8, 9]]])\n",
    "# a.c_\n",
    "\n",
    "\n",
    "# x.swapaxes(0,2).reshape(16,3).reshape(8,2,3).swapaxes(0,2)"
   ]
  },
  {
   "cell_type": "code",
   "execution_count": 6,
   "metadata": {},
   "outputs": [
    {
     "data": {
      "text/plain": [
       "array([[[1, 2, 3],\n",
       "        [4, 5, 6],\n",
       "        [7, 8, 9]],\n",
       "\n",
       "       [[1, 2, 3],\n",
       "        [4, 5, 6],\n",
       "        [7, 8, 9]],\n",
       "\n",
       "       [[1, 2, 3],\n",
       "        [4, 5, 6],\n",
       "        [7, 8, 9]],\n",
       "\n",
       "       [[1, 2, 3],\n",
       "        [4, 5, 6],\n",
       "        [7, 8, 9]]])"
      ]
     },
     "execution_count": 6,
     "metadata": {},
     "output_type": "execute_result"
    }
   ],
   "source": [
    "a"
   ]
  },
  {
   "cell_type": "code",
   "execution_count": 40,
   "metadata": {},
   "outputs": [
    {
     "data": {
      "text/plain": [
       "(4, 3, 3)"
      ]
     },
     "execution_count": 40,
     "metadata": {},
     "output_type": "execute_result"
    }
   ],
   "source": [
    "len(a)\n",
    "s = a.shape\n",
    "# np.dot(a.shape[0], a.shape[1], a.shape[2])\n",
    "# np.dot(s[1], s[2])\n",
    "s"
   ]
  },
  {
   "cell_type": "code",
   "execution_count": 46,
   "metadata": {},
   "outputs": [
    {
     "data": {
      "text/plain": [
       "9"
      ]
     },
     "execution_count": 46,
     "metadata": {},
     "output_type": "execute_result"
    }
   ],
   "source": [
    "np.max(a)"
   ]
  },
  {
   "cell_type": "code",
   "execution_count": 34,
   "metadata": {},
   "outputs": [],
   "source": [
    "# b = a.swapaxes(0, 2)"
   ]
  },
  {
   "cell_type": "code",
   "execution_count": 38,
   "metadata": {},
   "outputs": [
    {
     "data": {
      "text/plain": [
       "array([[1, 2, 3, 4, 5, 6, 7, 8, 9],\n",
       "       [1, 2, 3, 4, 5, 6, 7, 8, 9],\n",
       "       [1, 2, 3, 4, 5, 6, 7, 8, 9],\n",
       "       [1, 2, 3, 4, 5, 6, 7, 8, 9]])"
      ]
     },
     "execution_count": 38,
     "metadata": {},
     "output_type": "execute_result"
    }
   ],
   "source": [
    "depth = len(a)\n",
    "s = a.shape\n",
    "pixels = np.dot(s[1], s[2])\n",
    "\n",
    "c = a.reshape(depth, pixels)\n",
    "c"
   ]
  },
  {
   "cell_type": "code",
   "execution_count": 39,
   "metadata": {},
   "outputs": [
    {
     "data": {
      "text/plain": [
       "array([[1, 1, 1, 1],\n",
       "       [2, 2, 2, 2],\n",
       "       [3, 3, 3, 3],\n",
       "       [4, 4, 4, 4],\n",
       "       [5, 5, 5, 5],\n",
       "       [6, 6, 6, 6],\n",
       "       [7, 7, 7, 7],\n",
       "       [8, 8, 8, 8],\n",
       "       [9, 9, 9, 9]])"
      ]
     },
     "execution_count": 39,
     "metadata": {},
     "output_type": "execute_result"
    }
   ],
   "source": [
    "c = c.transpose()\n",
    "c"
   ]
  },
  {
   "cell_type": "code",
   "execution_count": 26,
   "metadata": {},
   "outputs": [
    {
     "ename": "ValueError",
     "evalue": "cannot reshape array of size 7 into shape (466,357)",
     "output_type": "error",
     "traceback": [
      "\u001b[0;31m---------------------------------------------------------------------------\u001b[0m",
      "\u001b[0;31mValueError\u001b[0m                                Traceback (most recent call last)",
      "\u001b[0;32m<ipython-input-26-423f4aa3ec5a>\u001b[0m in \u001b[0;36m<module>\u001b[0;34m\u001b[0m\n\u001b[1;32m      1\u001b[0m \u001b[0my_km\u001b[0m \u001b[0;34m=\u001b[0m \u001b[0mnp\u001b[0m\u001b[0;34m.\u001b[0m\u001b[0marray\u001b[0m\u001b[0;34m(\u001b[0m\u001b[0;34m[\u001b[0m\u001b[0;36m52\u001b[0m\u001b[0;34m,\u001b[0m \u001b[0;36m43\u001b[0m\u001b[0;34m,\u001b[0m \u001b[0;36m43\u001b[0m\u001b[0;34m,\u001b[0m \u001b[0;34m...\u001b[0m\u001b[0;34m,\u001b[0m \u001b[0;36m38\u001b[0m\u001b[0;34m,\u001b[0m \u001b[0;36m38\u001b[0m\u001b[0;34m,\u001b[0m \u001b[0;36m38\u001b[0m\u001b[0;34m]\u001b[0m\u001b[0;34m)\u001b[0m\u001b[0;34m\u001b[0m\u001b[0;34m\u001b[0m\u001b[0m\n\u001b[1;32m      2\u001b[0m \u001b[0;34m\u001b[0m\u001b[0m\n\u001b[0;32m----> 3\u001b[0;31m \u001b[0mtexton_image\u001b[0m \u001b[0;34m=\u001b[0m \u001b[0my_km\u001b[0m\u001b[0;34m.\u001b[0m\u001b[0mreshape\u001b[0m\u001b[0;34m(\u001b[0m\u001b[0;34m[\u001b[0m\u001b[0;36m466\u001b[0m\u001b[0;34m,\u001b[0m \u001b[0;36m357\u001b[0m\u001b[0;34m]\u001b[0m\u001b[0;34m)\u001b[0m\u001b[0;34m\u001b[0m\u001b[0;34m\u001b[0m\u001b[0m\n\u001b[0m\u001b[1;32m      4\u001b[0m \u001b[0;31m# print(\"KM shape\", km.shape)\u001b[0m\u001b[0;34m\u001b[0m\u001b[0;34m\u001b[0m\u001b[0;34m\u001b[0m\u001b[0m\n\u001b[1;32m      5\u001b[0m \u001b[0;34m\u001b[0m\u001b[0m\n",
      "\u001b[0;31mValueError\u001b[0m: cannot reshape array of size 7 into shape (466,357)"
     ]
    }
   ],
   "source": [
    "y_km = np.array([52, 43, 43, ..., 38, 38, 38])\n",
    "\n",
    "texton_image = y_km.reshape([466, 357])\n",
    "# print(\"KM shape\", km.shape)\n",
    "\n",
    "plt.imshow(texton_image)\n"
   ]
  },
  {
   "cell_type": "code",
   "execution_count": null,
   "metadata": {},
   "outputs": [],
   "source": [
    "img = cv2.imread(\"/home/radha/Downloads/test_samples/test1.jpg\")\n",
    "img_gray = cv2.cvtColor(img, cv2.COLOR_BGR2GRAY)\n",
    "\n",
    "img_gray = np.array(img_gray)\n",
    "img_shape = img_gray.shape\n",
    "pixels = np.dot(img_shape[1], img_shape[2])\n",
    "\n",
    "img = img_channels.swapaxes(0, 2)\n",
    "img = img.reshape(pixels, img_shape[0])\n",
    "\n",
    "km = KMeans(n_clusters=64, n_init=2)\n",
    "y_km = km.fit_predict(img)\n",
    "texton_image = y_km.reshape([img_shape[1], img_shape[2]])\n",
    "# print(\"KM shape\", km.shape)\n",
    "\n",
    "plt.imshow(texton_image)\n",
    "plt.imsave(\"/home/radha/text.jpg\", texton_image)\n",
    "# plt.pause(30)\n",
    "\n",
    "import pprint\n",
    "pprint.pprint(y_km)"
   ]
  },
  {
   "cell_type": "code",
   "execution_count": null,
   "metadata": {},
   "outputs": [],
   "source": []
  },
  {
   "cell_type": "code",
   "execution_count": 142,
   "metadata": {},
   "outputs": [],
   "source": [
    "import numpy as np\n",
    "from typing import List\n",
    "\n",
    "\n",
    "\n",
    "def get_half_disks(size: int, radius: int) -> [List[List[float]]]:\n",
    "\n",
    "    bound = (size - 1) / 2\n",
    "    spread_x = np.linspace(-bound, bound, size)\n",
    "    spread_y = np.linspace(-bound, bound, size)\n",
    "\n",
    "    x, y = np.meshgrid(spread_x, spread_y)\n",
    "    pts = [x.flatten(), y.flatten()]\n",
    "\n",
    "    x, y = pts[0], pts[1]\n",
    "    \n",
    "    cond1 = (x ** 2 + y ** 2) < radius ** 2\n",
    "    cond2 = y > 0\n",
    "\n",
    "    mask = np.logical_and(cond1, cond2)\n",
    "\n",
    "    return mask.reshape(size, size)\n",
    "\n",
    "\n",
    "\n",
    "def get_half_disks(sizes: List[int], angles: int) -> [List[List[float]]]:\n",
    "\n",
    "    half_disks = []\n",
    "    for size in sizes:\n",
    "        \n",
    "        bound = (size - 1) / 2\n",
    "        spread = np.linspace(-bound, bound, size)\n",
    "        x, y = np.meshgrid(spread, spread)\n",
    "        pts = [x.flatten(), y.flatten()]\n",
    "\n",
    "        radius = size / 2\n",
    "        for i in range(angles):\n",
    "            angle = (2 * np.pi * i)/angles\n",
    "            rot = np.array([[np.cos(angle),-np.sin(angle)],[np.sin(angle), np.cos(angle)]])\n",
    "            rot_pts = np.dot(rot, pts)\n",
    "\n",
    "            x, y = rot_pts[0], rot_pts[1]\n",
    "\n",
    "            cond1 = (x ** 2 + y ** 2) < radius ** 2\n",
    "            cond2 = y > 0\n",
    "            mask = np.logical_and(cond1, cond2)\n",
    "            mask = mask.reshape(size, size)\n",
    "            \n",
    "            half_disks.append(mask)\n",
    "\n",
    "    return half_disks"
   ]
  },
  {
   "cell_type": "code",
   "execution_count": 158,
   "metadata": {},
   "outputs": [
    {
     "data": {
      "image/png": "[encoded data removed]",
      "text/plain": [
       "<Figure size 432x288 with 48 Axes>"
      ]
     },
     "metadata": {
      "needs_background": "light"
     },
     "output_type": "display_data"
    }
   ],
   "source": [
    "import matplotlib.pyplot as plt\n",
    "\n",
    "masks = get_half_disks([10, 26, 50], 16)\n",
    "\n",
    "for i in range(len(masks)):\n",
    "    plt.subplot(3, 16, i + 1)\n",
    "    plt.axis('off')\n",
    "    plt.imshow(masks[i], cmap='gray')"
   ]
  },
  {
   "cell_type": "code",
   "execution_count": 171,
   "metadata": {},
   "outputs": [
    {
     "data": {
      "image/png": "[encoded data removed]",
      "text/plain": [
       "<Figure size 432x288 with 24 Axes>"
      ]
     },
     "metadata": {
      "needs_background": "light"
     },
     "output_type": "display_data"
    }
   ],
   "source": [
    "import matplotlib.pyplot as plt\n",
    "\n",
    "masks = get_half_disks([10, 26, 50], 16)\n",
    "\n",
    "left_masks, right_masks = [], []\n",
    "\n",
    "left_masks.extend([*masks[0:8], *masks[16:24], *masks[32:40]])\n",
    "right_masks.extend([*masks[8:16], *masks[24:32], *masks[40:48]])\n",
    "\n",
    "for i in range(len(left_masks)):\n",
    "    plt.subplot(3, 8, i + 1)\n",
    "    plt.axis('off')\n",
    "    plt.imshow(left_masks[i], cmap='gray')\n"
   ]
  },
  {
   "cell_type": "code",
   "execution_count": 172,
   "metadata": {},
   "outputs": [
    {
     "data": {
      "image/png": "[encoded data removed]",
      "text/plain": [
       "<Figure size 432x288 with 24 Axes>"
      ]
     },
     "metadata": {
      "needs_background": "light"
     },
     "output_type": "display_data"
    }
   ],
   "source": [
    "for i in range(len(right_masks)):\n",
    "    plt.subplot(3, 8, i + 1)\n",
    "    plt.axis('off')\n",
    "    plt.imshow(right_masks[i], cmap='gray')"
   ]
  },
  {
   "cell_type": "code",
   "execution_count": 194,
   "metadata": {},
   "outputs": [],
   "source": [
    "def get_gradient_map(img_map: List[List], bins) -> List[List]:\n",
    "\n",
    "    chi_sqr_distances = []\n",
    "    for i in range(0, int(len(masks)/2)):\n",
    "        chi_sqr_dist = np.zeros(img_map.shape)\n",
    "        for val in range(bins):\n",
    "            bin_img = (img_map == val)\n",
    "            bin_img = np.float32(bin_img)\n",
    "            gi = cv2.filter2D(src=bin_img, ddepth=-1, kernel=np.float32(left_masks[i]))\n",
    "            hi = cv2.filter2D(src=bin_img, ddepth=-1, kernel=np.float32(right_masks[i]))\n",
    "\n",
    "            chi_sqr_dist += ((gi - hi) ** 2 )/2 * (gi + hi)\n",
    "        chi_sqr_distances.append(chi_sqr_dist)\n",
    "\n",
    "    chi_sqr_distances = np.array(chi_sqr_distances)\n",
    "    return np.mean(chi_sqr_distances, axis=0)\n"
   ]
  },
  {
   "cell_type": "code",
   "execution_count": 195,
   "metadata": {},
   "outputs": [],
   "source": [
    "res = get_gradient_map(img_gray, 64)"
   ]
  },
  {
   "cell_type": "raw",
   "metadata": {},
   "source": [
    "plt.imshow(res)"
   ]
  },
  {
   "cell_type": "code",
   "execution_count": 196,
   "metadata": {},
   "outputs": [
    {
     "data": {
      "text/plain": [
       "<matplotlib.image.AxesImage at 0x7f46d20f1a90>"
      ]
     },
     "execution_count": 196,
     "metadata": {},
     "output_type": "execute_result"
    },
    {
     "data": {
      "image/png": "[encoded data removed]",
      "text/plain": [
       "<Figure size 432x288 with 1 Axes>"
      ]
     },
     "metadata": {
      "needs_background": "light"
     },
     "output_type": "display_data"
    }
   ],
   "source": [
    "plt.imshow(res)"
   ]
  },
  {
   "cell_type": "code",
   "execution_count": 163,
   "metadata": {},
   "outputs": [
    {
     "data": {
      "text/plain": [
       "[1, 2, 3, 4, 5, 6, 7, 8]"
      ]
     },
     "execution_count": 163,
     "metadata": {},
     "output_type": "execute_result"
    }
   ],
   "source": [
    "a = [1, 2, 3, 4, 5, 6, 7, 8]\n",
    "a[0:8]"
   ]
  },
  {
   "cell_type": "code",
   "execution_count": 174,
   "metadata": {},
   "outputs": [
    {
     "data": {
      "text/plain": [
       "36"
      ]
     },
     "execution_count": 174,
     "metadata": {},
     "output_type": "execute_result"
    }
   ],
   "source": [
    "np.sum(a)"
   ]
  },
  {
   "cell_type": "code",
   "execution_count": 153,
   "metadata": {},
   "outputs": [
    {
     "name": "stdout",
     "output_type": "stream",
     "text": [
      "0\n",
      "2\n",
      "4\n",
      "6\n",
      "8\n"
     ]
    }
   ],
   "source": [
    "for i in range(0, 9, 2):\n",
    "    print(i)"
   ]
  },
  {
   "cell_type": "code",
   "execution_count": null,
   "metadata": {},
   "outputs": [],
   "source": []
  },
  {
   "cell_type": "code",
   "execution_count": 184,
   "metadata": {},
   "outputs": [],
   "source": [
    "import cv2\n",
    "\n",
    "img = cv2.imread(\"/home/radha/b_map.jpg\")\n",
    "img_gray = cv2.cvtColor(img, cv2.COLOR_BGR2GRAY)\n",
    "\n",
    "# bin_img = (img_gray == 126)"
   ]
  },
  {
   "cell_type": "code",
   "execution_count": 151,
   "metadata": {},
   "outputs": [
    {
     "data": {
      "text/plain": [
       "<matplotlib.image.AxesImage at 0x7f46be79d790>"
      ]
     },
     "execution_count": 151,
     "metadata": {},
     "output_type": "execute_result"
    },
    {
     "data": {
      "image/png": "[encoded data removed]",
      "text/plain": [
       "<Figure size 432x288 with 1 Axes>"
      ]
     },
     "metadata": {
      "needs_background": "light"
     },
     "output_type": "display_data"
    }
   ],
   "source": [
    "plt.imshow(bin_img)"
   ]
  },
  {
   "cell_type": "code",
   "execution_count": 176,
   "metadata": {},
   "outputs": [
    {
     "data": {
      "text/plain": [
       "array([[0., 0., 0., ..., 0., 0., 0.],\n",
       "       [0., 0., 0., ..., 0., 0., 0.],\n",
       "       [0., 0., 0., ..., 0., 0., 0.],\n",
       "       ...,\n",
       "       [0., 0., 0., ..., 0., 0., 0.],\n",
       "       [0., 0., 0., ..., 0., 0., 0.],\n",
       "       [0., 0., 0., ..., 0., 0., 0.]])"
      ]
     },
     "execution_count": 176,
     "metadata": {},
     "output_type": "execute_result"
    }
   ],
   "source": [
    "chi_sqr_dist = np.zeros(bin_img.shape)\n",
    "chi_sqr_dist\n"
   ]
  },
  {
   "cell_type": "code",
   "execution_count": 197,
   "metadata": {},
   "outputs": [
    {
     "data": {
      "text/plain": [
       "array([[ 1,  4],\n",
       "       [ 9, 16]])"
      ]
     },
     "execution_count": 197,
     "metadata": {},
     "output_type": "execute_result"
    }
   ],
   "source": [
    "a = np.array([[1, 2], [3, 4]])\n",
    "b = np.array([[1, 2], [3, 4]])\n",
    "a * b"
   ]
  },
  {
   "cell_type": "code",
   "execution_count": null,
   "metadata": {},
   "outputs": [],
   "source": []
  }
 ],
 "metadata": {
  "kernelspec": {
   "display_name": "Python 3",
   "language": "python",
   "name": "python3"
  },
  "language_info": {
   "codemirror_mode": {
    "name": "ipython",
    "version": 3
   },
   "file_extension": ".py",
   "mimetype": "text/x-python",
   "name": "python",
   "nbconvert_exporter": "python",
   "pygments_lexer": "ipython3",
   "version": "3.9.14"
  }
 },
 "nbformat": 4,
 "nbformat_minor": 4
}
