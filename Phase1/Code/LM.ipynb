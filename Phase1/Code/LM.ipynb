{
 "cells": [
  {
   "cell_type": "code",
   "execution_count": 6,
   "id": "6ee4f035",
   "metadata": {},
   "outputs": [],
   "source": [
    "import cv2\n",
    "import numpy as np\n",
    "import matplotlib.pyplot as plt"
   ]
  },
  {
   "cell_type": "code",
   "execution_count": 48,
   "id": "392b80b2",
   "metadata": {},
   "outputs": [],
   "source": [
    "size = 5\n",
    "index = (size - 1)/2\n",
    "# x, y = np.meshgrid[-bound:bound+1, -bound:bound+1]\n",
    "x, y = np.meshgrid(np.linspace(-index, index, size), np.linspace(-index, index, size))"
   ]
  },
  {
   "cell_type": "code",
   "execution_count": 46,
   "id": "c5c9bca7",
   "metadata": {},
   "outputs": [],
   "source": [
    "# from mpl_toolkits import mplot3d\n",
    "\n",
    "# fig = plt.figure()\n",
    "# ax = plt.axes(projection='3d')\n",
    "# ax.plot_surface(x, y, gaussian, rstride=1, cstride=1,\n",
    "#                 cmap='viridis', edgecolor='none')\n",
    "# ax.set_title('surface');"
   ]
  },
  {
   "cell_type": "code",
   "execution_count": 87,
   "id": "2b9cab5f",
   "metadata": {},
   "outputs": [],
   "source": [
    "import numpy as np\n",
    "from numpy import sin, cos, sqrt, pi\n",
    "from typing import List\n",
    "\n",
    "\n",
    "# constants:\n",
    "kernel_size = 14\n",
    "# SCALES = [1/2 * sqrt(2), sqrt(2), 2]\n",
    "SCALES = [0.5, 1, 1.4]\n",
    "NORIENT = 6\n",
    "NDOG = len(SCALES) * NORIENT\n",
    "NROTINV = 12\n",
    "TOTAL = 2*NDOG + NROTINV\n",
    "F = np.zeros([kernel_size, kernel_size, TOTAL])\n",
    "\n",
    "class LMLFilterBank:\n",
    "    def __init__(self, size):\n",
    "        bound = (size - 1) / 2\n",
    "        spread = np.linspace(-bound, bound, size)\n",
    "\n",
    "        self.x, self.y = np.meshgrid(spread, spread)\n",
    "\n",
    "        self.pts = np.array([self.x.flatten(), self.y.flatten()])\n",
    "        self.rotated_pts = self.pts\n",
    "\n",
    "        # self.var = sigma * sigma\n",
    "\n",
    "    def get_1d_gaussian(self, x: List[float], sigma: float) -> List[float]:\n",
    "        \"\"\"\n",
    "        Calculates 1d gaussian using function definition at each point in x\n",
    "        \"\"\"\n",
    "        x = x - np.mean(x)\n",
    "        var = sigma * sigma\n",
    "\n",
    "        num = np.exp(-(x * x) / 2 * var)\n",
    "        denom = np.sqrt(2 * pi * var)\n",
    "\n",
    "        return num / denom\n",
    "\n",
    "    def get_2d_gaussian(grid: [List[List[float]]], sigma, elong_factor: float = 1) -> [List[List[float]]]:\n",
    "        \"\"\"\n",
    "        Calculates 2d gaussian using function defn. at each point (x, y) in grid\n",
    "        \"\"\"\n",
    "        x, y = grid[0], grid[1]\n",
    "\n",
    "        sigma_y = sigma\n",
    "        sigma_x = elong_factor * sigma_y\n",
    "\n",
    "        num = np.exp(-0.5 * ((x**2 / sigma_x**2) + (y ** 2 / sigma_y**2)))\n",
    "        denom = np.sqrt(2 * pi * sigma_x * sigma_y)\n",
    "\n",
    "        return num / denom\n",
    "\n",
    "    @staticmethod\n",
    "    def get_deriv_of_1d_gaussian(order: int, x: List[float], sigma: float) -> List[float]:\n",
    "        \"\"\"\n",
    "        Gets the 1st or 2nd order derivative of gaussian.\n",
    "        \"\"\"\n",
    "        x = x - np.mean(x)\n",
    "        var = sigma * sigma\n",
    "\n",
    "        num = np.exp(-(x * x) / 2 * var)\n",
    "        denom = np.sqrt(2 * pi * var)\n",
    "\n",
    "        g = num / denom\n",
    "\n",
    "        if order == 1:\n",
    "            return (-x / var) * g\n",
    "        else:  # order = 2\n",
    "            return ((x * x - var) / (var * var)) * g\n",
    "\n",
    "    def get_filter(self, order: int, pts: List[List[float]], sigma: float):\n",
    "        \"\"\"\n",
    "        Gets the 1st or 2nd order derivative of gaussian.\n",
    "        \"\"\"\n",
    "        gx = self.get_1d_gaussian(pts[0], 3*sigma)\n",
    "        gy = self.get_deriv_of_1d_gaussian(order, pts[1], sigma)\n",
    "\n",
    "        return np.reshape(gx * gy, (kernel_size, kernel_size))\n",
    "\n",
    "    \n",
    "    def get_LMLFilter_bank(self):\n",
    "        count = 0\n",
    "        for scale in SCALES:\n",
    "            for orientation in range(NORIENT):\n",
    "                angle = orientation * pi / NORIENT\n",
    "                rotation_mat = np.array([[cos(angle)+0, -sin(angle)+0], [sin(angle)+0, cos(angle)+0]])\n",
    "                rotated_pts = np.dot(rotation_mat, self.pts)\n",
    "                F[:,:,count] = self.get_filter(1, rotated_pts, scale)\n",
    "                F[:,:,count+NDOG] = self.get_filter(2, rotated_pts, scale)\n",
    "                count += 1\n",
    "\n",
    "        return F\n"
   ]
  },
  {
   "cell_type": "code",
   "execution_count": 88,
   "id": "3c11e923",
   "metadata": {},
   "outputs": [],
   "source": [
    "lml_bank = LMLFilterBank(kernel_size)"
   ]
  },
  {
   "cell_type": "code",
   "execution_count": 89,
   "id": "8cdd0ca5",
   "metadata": {},
   "outputs": [],
   "source": [
    "filters = lml_bank.get_LMLFilter_bank()"
   ]
  },
  {
   "cell_type": "code",
   "execution_count": 90,
   "id": "2897ca45",
   "metadata": {},
   "outputs": [
    {
     "data": {
      "image/png": "[encoded data removed]",
      "text/plain": [
       "<Figure size 432x288 with 36 Axes>"
      ]
     },
     "metadata": {
      "needs_background": "light"
     },
     "output_type": "display_data"
    }
   ],
   "source": [
    "import matplotlib.pyplot as plt\n",
    "\n",
    "for i in range(0,36):\n",
    "    plt.subplot(6,6,i+1)\n",
    "    plt.axis('off')\n",
    "    plt.imshow(F[:,:,i], cmap = 'gray')"
   ]
  },
  {
   "cell_type": "code",
   "execution_count": 41,
   "id": "d918a608",
   "metadata": {},
   "outputs": [
    {
     "data": {
      "text/plain": [
       "<matplotlib.image.AxesImage at 0x7f147adba460>"
      ]
     },
     "execution_count": 41,
     "metadata": {},
     "output_type": "execute_result"
    },
    {
     "data": {
      "image/png": "[encoded data removed]",
      "text/plain": [
       "<Figure size 432x288 with 1 Axes>"
      ]
     },
     "metadata": {
      "needs_background": "light"
     },
     "output_type": "display_data"
    }
   ],
   "source": [
    "plt.axis('off')\n",
    "plt.imshow(F[:,:,22], cmap = 'gray')"
   ]
  },
  {
   "cell_type": "code",
   "execution_count": 21,
   "id": "a396510f",
   "metadata": {},
   "outputs": [
    {
     "data": {
      "text/plain": [
       "(49, 49, 48)"
      ]
     },
     "execution_count": 21,
     "metadata": {},
     "output_type": "execute_result"
    }
   ],
   "source": [
    "F.shape"
   ]
  },
  {
   "cell_type": "code",
   "execution_count": 1,
   "id": "fa60daa0",
   "metadata": {},
   "outputs": [],
   "source": [
    "import numpy as np\n",
    "import cv2\n",
    "import matplotlib.pyplot as plt\n",
    "\n",
    "def gaussian1d(sigma, mean, x, ord):\n",
    "    x = np.array(x)\n",
    "    x_ = x - mean\n",
    "    var = sigma**2\n",
    "\n",
    "    # Gaussian Function\n",
    "    g1 = (1/np.sqrt(2*np.pi*var))*(np.exp((-1*x_*x_)/(2*var)))\n",
    "    \n",
    "    if ord == 0:\n",
    "        g = g1\n",
    "        return g\n",
    "    elif ord == 1:\n",
    "        g = -g1*((x_)/(var))\n",
    "        return g\n",
    "    else:\n",
    "        g = g1*(((x_*x_) - var)/(var**2))\n",
    "        return g\n",
    "    \n",
    "def gaussian2d(sup, scales):\n",
    "    var = scales * scales\n",
    "    shape = (sup,sup)\n",
    "    n,m = [(i - 1)/2 for i in shape]\n",
    "    x,y = np.ogrid[-m:m+1,-n:n+1]\n",
    "    g = (1/np.sqrt(2*np.pi*var))*np.exp( -(x*x + y*y) / (2*var) )\n",
    "    return g\n",
    "\n",
    "def log2d(sup, scales):\n",
    "    var = scales * scales\n",
    "    shape = (sup,sup)\n",
    "    n,m = [(i - 1)/2 for i in shape]\n",
    "    x,y = np.ogrid[-m:m+1,-n:n+1]\n",
    "    g = (1/np.sqrt(2*np.pi*var))*np.exp( -(x*x + y*y) / (2*var) )\n",
    "    h = g*((x*x + y*y) - var)/(var**2)\n",
    "    return h\n",
    "\n",
    "def makefilter(scale, phasex, phasey, pts, sup):\n",
    "\n",
    "    gx = gaussian1d(3*scale, 0, pts[0,...], phasex)\n",
    "    gy = gaussian1d(scale,   0, pts[1,...], phasey)\n",
    "\n",
    "    image = gx*gy\n",
    "\n",
    "    image = np.reshape(image,(sup,sup))\n",
    "    return image\n",
    "\n",
    "\n",
    "def makeLMfilters():\n",
    "    sup     = 49\n",
    "    scalex  = np.sqrt(2) * np.array([1,2,3])\n",
    "    norient = 6\n",
    "    nrotinv = 12\n",
    "\n",
    "    nbar  = len(scalex)*norient\n",
    "    nedge = len(scalex)*norient\n",
    "    nf    = nbar+nedge+nrotinv\n",
    "    F     = np.zeros([sup,sup,nf])\n",
    "    hsup  = (sup - 1)/2\n",
    "\n",
    "    x = [np.arange(-hsup,hsup+1)]\n",
    "    y = [np.arange(-hsup,hsup+1)]\n",
    "\n",
    "    [x,y] = np.meshgrid(x,y)\n",
    "\n",
    "    orgpts = [x.flatten(), y.flatten()]\n",
    "    orgpts = np.array(orgpts)\n",
    "\n",
    "    count = 0\n",
    "    for scale in range(len(scalex)):\n",
    "        for orient in range(norient):\n",
    "            angle = (np.pi * orient)/norient\n",
    "            c = np.cos(angle)\n",
    "            s = np.sin(angle)\n",
    "            rotpts = [[c+0,-s+0],[s+0,c+0]]\n",
    "            rotpts = np.array(rotpts)  \n",
    "            rotpts = np.dot(rotpts,orgpts)\n",
    "            F[:,:,count] = makefilter(scalex[scale], 0, 1, rotpts, sup)\n",
    "            F[:,:,count+nedge] = makefilter(scalex[scale], 0, 2, rotpts, sup)\n",
    "            count = count + 1\n",
    "\n",
    "    count = nbar+nedge\n",
    "    scales = np.sqrt(2) * np.array([1,2,3,4])\n",
    "\n",
    "    for i in range(len(scales)):\n",
    "        F[:,:,count]   = gaussian2d(sup, scales[i])\n",
    "        count = count + 1\n",
    "\n",
    "    for i in range(len(scales)):\n",
    "        F[:,:,count] = log2d(sup, scales[i])\n",
    "        count = count + 1\n",
    "\n",
    "    for i in range(len(scales)):\n",
    "        F[:,:,count] = log2d(sup, 3*scales[i])\n",
    "        count = count + 1\n",
    "\n",
    "    return F\n",
    "\n",
    "# Call the make filter function\n",
    "F = makeLMfilters()"
   ]
  },
  {
   "cell_type": "code",
   "execution_count": 2,
   "id": "975f49cb",
   "metadata": {},
   "outputs": [
    {
     "ename": "NameError",
     "evalue": "name 'rotpts' is not defined",
     "output_type": "error",
     "traceback": [
      "\u001b[0;31m---------------------------------------------------------------------------\u001b[0m",
      "\u001b[0;31mNameError\u001b[0m                                 Traceback (most recent call last)",
      "\u001b[0;32m<ipython-input-2-4e8c731aef52>\u001b[0m in \u001b[0;36m<module>\u001b[0;34m\u001b[0m\n\u001b[0;32m----> 1\u001b[0;31m \u001b[0mrotpts\u001b[0m\u001b[0;34m\u001b[0m\u001b[0;34m\u001b[0m\u001b[0m\n\u001b[0m",
      "\u001b[0;31mNameError\u001b[0m: name 'rotpts' is not defined"
     ]
    }
   ],
   "source": [
    "rotpts"
   ]
  },
  {
   "cell_type": "code",
   "execution_count": 94,
   "id": "8c769c5f",
   "metadata": {},
   "outputs": [],
   "source": [
    "# plt.subplot(1,1,1)\n",
    "# plt.axis('off')\n",
    "# plt.imshow(gaussian, cmap = 'gray')\n"
   ]
  },
  {
   "cell_type": "code",
   "execution_count": 3,
   "id": "a9827f3e",
   "metadata": {
    "scrolled": true
   },
   "outputs": [
    {
     "data": {
      "image/png": "[encoded data removed]",
      "text/plain": [
       "<Figure size 432x288 with 48 Axes>"
      ]
     },
     "metadata": {
      "needs_background": "light"
     },
     "output_type": "display_data"
    }
   ],
   "source": [
    "for i in range(48):\n",
    "    plt.subplot(8,6,i+1)\n",
    "    plt.axis('off')\n",
    "    plt.imshow(F[:,:,i], cmap = 'gray')"
   ]
  },
  {
   "cell_type": "code",
   "execution_count": 4,
   "id": "c8732669",
   "metadata": {},
   "outputs": [],
   "source": [
    "import cv2\n",
    "\n",
    "canny_pb = cv2.imread(\"/home/radha/YourDirectoryID_hw0/Phase1/BSDS500/CannyBaseline/10.png\")\n",
    "canny_pb = cv2.cvtColor(canny_pb, cv2.COLOR_BGR2GRAY)"
   ]
  },
  {
   "cell_type": "code",
   "execution_count": 5,
   "id": "080f1f80",
   "metadata": {},
   "outputs": [
    {
     "data": {
      "text/plain": [
       "(481, 321)"
      ]
     },
     "execution_count": 5,
     "metadata": {},
     "output_type": "execute_result"
    }
   ],
   "source": [
    "canny_pb.shape"
   ]
  }
 ],
 "metadata": {
  "kernelspec": {
   "display_name": "Python 3",
   "language": "python",
   "name": "python3"
  },
  "language_info": {
   "codemirror_mode": {
    "name": "ipython",
    "version": 3
   },
   "file_extension": ".py",
   "mimetype": "text/x-python",
   "name": "python",
   "nbconvert_exporter": "python",
   "pygments_lexer": "ipython3",
   "version": "3.9.14"
  }
 },
 "nbformat": 4,
 "nbformat_minor": 5
}
